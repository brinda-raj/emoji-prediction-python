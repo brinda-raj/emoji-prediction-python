{
 "cells": [
  {
   "cell_type": "code",
   "execution_count": 1,
   "metadata": {},
   "outputs": [
    {
     "name": "stdout",
     "output_type": "stream",
     "text": [
      "Collecting emoji\n",
      "  Downloading https://files.pythonhosted.org/packages/9c/fb/7586e11ff9205c9be9d11d376fcb6990ec4bdfae0a35663fb1ada7e3c10f/emoji-0.5.1-py3-none-any.whl\n",
      "Installing collected packages: emoji\n",
      "Successfully installed emoji-0.5.1\n"
     ]
    }
   ],
   "source": [
    "!pip install emoji"
   ]
  },
  {
   "cell_type": "code",
   "execution_count": 2,
   "metadata": {},
   "outputs": [],
   "source": [
    "import emoji"
   ]
  },
  {
   "cell_type": "code",
   "execution_count": 4,
   "metadata": {},
   "outputs": [],
   "source": [
    "#emoji.EMOJI_UNICODE"
   ]
  },
  {
   "cell_type": "code",
   "execution_count": 7,
   "metadata": {},
   "outputs": [],
   "source": [
    "emoji_dict = {\"0\": \"\\u2764\\uFE0F\",    # :heart: prints a black instead of red heart depending on the font\n",
    "                    \"1\": \":baseball:\",\n",
    "                    \"2\": \":beaming_face_with_smiling_eyes:\",\n",
    "                    \"3\": \":downcast_face_with_sweat:\",\n",
    "                    \"4\": \":fork_and_knife:\",\n",
    "                   }"
   ]
  },
  {
   "cell_type": "code",
   "execution_count": 10,
   "metadata": {},
   "outputs": [
    {
     "name": "stdout",
     "output_type": "stream",
     "text": [
      "❤️\n",
      "⚾\n",
      "😁\n",
      "😓\n",
      "🍴\n"
     ]
    }
   ],
   "source": [
    "for e in emoji_dict.values():\n",
    "    print(emoji.emojize(e))"
   ]
  },
  {
   "cell_type": "markdown",
   "metadata": {},
   "source": [
    "### Processing Custom Dataset"
   ]
  },
  {
   "cell_type": "code",
   "execution_count": 12,
   "metadata": {},
   "outputs": [],
   "source": [
    "import numpy as np\n",
    "import matplotlib.pyplot as plt\n",
    "import pandas as pd"
   ]
  },
  {
   "cell_type": "code",
   "execution_count": 134,
   "metadata": {},
   "outputs": [],
   "source": [
    "train_data = pd.read_csv('train_emoji.csv',header=None)\n",
    "test_data = pd.read_csv('test_emoji.csv',header=None)"
   ]
  },
  {
   "cell_type": "code",
   "execution_count": 16,
   "metadata": {},
   "outputs": [
    {
     "data": {
      "text/html": [
       "<div>\n",
       "<style scoped>\n",
       "    .dataframe tbody tr th:only-of-type {\n",
       "        vertical-align: middle;\n",
       "    }\n",
       "\n",
       "    .dataframe tbody tr th {\n",
       "        vertical-align: top;\n",
       "    }\n",
       "\n",
       "    .dataframe thead th {\n",
       "        text-align: right;\n",
       "    }\n",
       "</style>\n",
       "<table border=\"1\" class=\"dataframe\">\n",
       "  <thead>\n",
       "    <tr style=\"text-align: right;\">\n",
       "      <th></th>\n",
       "      <th>0</th>\n",
       "      <th>1</th>\n",
       "      <th>2</th>\n",
       "      <th>3</th>\n",
       "    </tr>\n",
       "  </thead>\n",
       "  <tbody>\n",
       "    <tr>\n",
       "      <th>0</th>\n",
       "      <td>never talk to me again</td>\n",
       "      <td>3</td>\n",
       "      <td>NaN</td>\n",
       "      <td>NaN</td>\n",
       "    </tr>\n",
       "    <tr>\n",
       "      <th>1</th>\n",
       "      <td>I am proud of your achievements</td>\n",
       "      <td>2</td>\n",
       "      <td>NaN</td>\n",
       "      <td>NaN</td>\n",
       "    </tr>\n",
       "    <tr>\n",
       "      <th>2</th>\n",
       "      <td>It is the worst day in my life</td>\n",
       "      <td>3</td>\n",
       "      <td>NaN</td>\n",
       "      <td>NaN</td>\n",
       "    </tr>\n",
       "    <tr>\n",
       "      <th>3</th>\n",
       "      <td>Miss you so much</td>\n",
       "      <td>0</td>\n",
       "      <td>NaN</td>\n",
       "      <td>[0]</td>\n",
       "    </tr>\n",
       "    <tr>\n",
       "      <th>4</th>\n",
       "      <td>food is life</td>\n",
       "      <td>4</td>\n",
       "      <td>NaN</td>\n",
       "      <td>NaN</td>\n",
       "    </tr>\n",
       "  </tbody>\n",
       "</table>\n",
       "</div>"
      ],
      "text/plain": [
       "                                 0  1   2     3\n",
       "0           never talk to me again  3 NaN   NaN\n",
       "1  I am proud of your achievements  2 NaN   NaN\n",
       "2   It is the worst day in my life  3 NaN   NaN\n",
       "3                 Miss you so much  0 NaN   [0]\n",
       "4                     food is life  4 NaN   NaN"
      ]
     },
     "execution_count": 16,
     "metadata": {},
     "output_type": "execute_result"
    }
   ],
   "source": [
    "train_data.head()"
   ]
  },
  {
   "cell_type": "code",
   "execution_count": 72,
   "metadata": {},
   "outputs": [
    {
     "name": "stdout",
     "output_type": "stream",
     "text": [
      "(132, 4) (56, 2)\n"
     ]
    }
   ],
   "source": [
    "train = train_data.values\n",
    "test = test_data.values\n",
    "print(train.shape,test.shape)"
   ]
  },
  {
   "cell_type": "code",
   "execution_count": 18,
   "metadata": {},
   "outputs": [
    {
     "name": "stdout",
     "output_type": "stream",
     "text": [
      "<class 'numpy.ndarray'>\n"
     ]
    }
   ],
   "source": [
    "print(type(train))"
   ]
  },
  {
   "cell_type": "code",
   "execution_count": 135,
   "metadata": {},
   "outputs": [],
   "source": [
    "x_train = train_data[0]\n",
    "y_train = train_data[1]\n",
    "\n",
    "x_test = test_data[0]\n",
    "y_test = test_data[1]"
   ]
  },
  {
   "cell_type": "code",
   "execution_count": 136,
   "metadata": {},
   "outputs": [
    {
     "name": "stdout",
     "output_type": "stream",
     "text": [
      "never talk to me again 3 😓\n",
      "I am proud of your achievements 2 😁\n",
      "It is the worst day in my life 3 😓\n",
      "Miss you so much 0 ❤️\n",
      "food is life 4 🍴\n"
     ]
    }
   ],
   "source": [
    "for i in range(5):\n",
    "    print(x_train[i],y_train[i],emoji.emojize(emoji_dict[str(y_train[i])]))"
   ]
  },
  {
   "cell_type": "markdown",
   "metadata": {},
   "source": [
    "### Converting sentences into Embeddings"
   ]
  },
  {
   "cell_type": "code",
   "execution_count": 56,
   "metadata": {},
   "outputs": [],
   "source": [
    "f = open('glove.6B.50d.txt',encoding='utf=8')"
   ]
  },
  {
   "cell_type": "code",
   "execution_count": 57,
   "metadata": {},
   "outputs": [],
   "source": [
    "embeddings_index = {}\n",
    "for line in f:\n",
    "    values = line.split()\n",
    "    word = values[0]\n",
    "    coefs = np.asarray(values[1:],dtype='float')\n",
    "    embeddings_index[word] = coefs"
   ]
  },
  {
   "cell_type": "code",
   "execution_count": 58,
   "metadata": {},
   "outputs": [],
   "source": [
    "f.close()"
   ]
  },
  {
   "cell_type": "code",
   "execution_count": 60,
   "metadata": {},
   "outputs": [
    {
     "name": "stdout",
     "output_type": "stream",
     "text": [
      "(50,)\n"
     ]
    }
   ],
   "source": [
    "emb_dim = embeddings_index['eat'].shape\n",
    "print(emb_dim)"
   ]
  },
  {
   "cell_type": "code",
   "execution_count": 137,
   "metadata": {},
   "outputs": [],
   "source": [
    "def embedding_output(x):\n",
    "    maxLen = 10\n",
    "    embedding_out = np.zeros((x.shape[0],maxLen,emb_dim[0]))\n",
    "    for ix in range(x.shape[0]):\n",
    "        x[ix] = x[ix].split()\n",
    "        for ij in range(len(x[ix])):\n",
    "            embedding_out[ix][ij] = embeddings_index[x[ix][ij].lower()]\n",
    "                \n",
    "    return embedding_out"
   ]
  },
  {
   "cell_type": "code",
   "execution_count": 138,
   "metadata": {},
   "outputs": [
    {
     "name": "stderr",
     "output_type": "stream",
     "text": [
      "/anaconda3/lib/python3.6/site-packages/ipykernel_launcher.py:5: SettingWithCopyWarning: \n",
      "A value is trying to be set on a copy of a slice from a DataFrame\n",
      "\n",
      "See the caveats in the documentation: http://pandas.pydata.org/pandas-docs/stable/indexing.html#indexing-view-versus-copy\n",
      "  \"\"\"\n"
     ]
    }
   ],
   "source": [
    "train_embeddings = embedding_output(x_train)\n",
    "test_embeddings = embedding_output(x_test)"
   ]
  },
  {
   "cell_type": "code",
   "execution_count": 139,
   "metadata": {},
   "outputs": [
    {
     "name": "stdout",
     "output_type": "stream",
     "text": [
      "['never', 'talk', 'to', 'me', 'again']\n"
     ]
    }
   ],
   "source": [
    "print(x_train[0])"
   ]
  },
  {
   "cell_type": "code",
   "execution_count": 141,
   "metadata": {},
   "outputs": [
    {
     "name": "stdout",
     "output_type": "stream",
     "text": [
      "(132, 10, 50)\n"
     ]
    }
   ],
   "source": [
    "print(train_embeddings.shape)"
   ]
  },
  {
   "cell_type": "code",
   "execution_count": 99,
   "metadata": {},
   "outputs": [
    {
     "name": "stdout",
     "output_type": "stream",
     "text": [
      "(132, 10, 50)\n",
      "(56, 10, 50)\n"
     ]
    }
   ],
   "source": [
    "print(train_embeddings.shape)\n",
    "print(test_embeddings.shape)"
   ]
  },
  {
   "cell_type": "code",
   "execution_count": 105,
   "metadata": {},
   "outputs": [],
   "source": [
    "from keras.utils import to_categorical"
   ]
  },
  {
   "cell_type": "code",
   "execution_count": 145,
   "metadata": {},
   "outputs": [],
   "source": [
    "y_train = to_categorical(y_train,num_classes=5)\n",
    "y_test = to_categorical(y_test,num_classes=5)"
   ]
  },
  {
   "cell_type": "code",
   "execution_count": 146,
   "metadata": {},
   "outputs": [
    {
     "name": "stdout",
     "output_type": "stream",
     "text": [
      "(132, 5)\n"
     ]
    }
   ],
   "source": [
    "print(y_train.shape)"
   ]
  },
  {
   "cell_type": "markdown",
   "metadata": {},
   "source": [
    "### Defining the RNN/LSTM Model"
   ]
  },
  {
   "cell_type": "code",
   "execution_count": 102,
   "metadata": {},
   "outputs": [],
   "source": [
    "from keras.models import Sequential\n",
    "from keras.layers import *"
   ]
  },
  {
   "cell_type": "code",
   "execution_count": 219,
   "metadata": {
    "scrolled": true
   },
   "outputs": [
    {
     "name": "stdout",
     "output_type": "stream",
     "text": [
      "_________________________________________________________________\n",
      "Layer (type)                 Output Shape              Param #   \n",
      "=================================================================\n",
      "lstm_24 (LSTM)               (None, 10, 64)            29440     \n",
      "_________________________________________________________________\n",
      "dropout_24 (Dropout)         (None, 10, 64)            0         \n",
      "_________________________________________________________________\n",
      "lstm_25 (LSTM)               (None, 64)                33024     \n",
      "_________________________________________________________________\n",
      "dropout_25 (Dropout)         (None, 64)                0         \n",
      "_________________________________________________________________\n",
      "dense_16 (Dense)             (None, 5)                 325       \n",
      "_________________________________________________________________\n",
      "activation_15 (Activation)   (None, 5)                 0         \n",
      "=================================================================\n",
      "Total params: 62,789\n",
      "Trainable params: 62,789\n",
      "Non-trainable params: 0\n",
      "_________________________________________________________________\n"
     ]
    }
   ],
   "source": [
    "model = Sequential()\n",
    "model.add(LSTM(64,input_shape=(10,50),return_sequences=True))\n",
    "model.add(Dropout(0.5))\n",
    "model.add(LSTM(64,input_shape=(10,50)))\n",
    "model.add(Dropout(0.3))\n",
    "model.add(Dense(5))\n",
    "model.add(Activation('softmax'))\n",
    "model.summary()"
   ]
  },
  {
   "cell_type": "code",
   "execution_count": 220,
   "metadata": {},
   "outputs": [],
   "source": [
    "model.compile(optimizer='adam',loss='categorical_crossentropy',metrics=['acc'])"
   ]
  },
  {
   "cell_type": "code",
   "execution_count": 221,
   "metadata": {},
   "outputs": [
    {
     "name": "stdout",
     "output_type": "stream",
     "text": [
      "Train on 118 samples, validate on 14 samples\n",
      "Epoch 1/100\n",
      "118/118 [==============================] - 6s 48ms/step - loss: 1.6195 - acc: 0.1949 - val_loss: 1.5815 - val_acc: 0.3571\n",
      "Epoch 2/100\n",
      "118/118 [==============================] - 0s 744us/step - loss: 1.5744 - acc: 0.2966 - val_loss: 1.5771 - val_acc: 0.2857\n",
      "Epoch 3/100\n",
      "118/118 [==============================] - 0s 688us/step - loss: 1.5420 - acc: 0.3475 - val_loss: 1.5761 - val_acc: 0.2857\n",
      "Epoch 4/100\n",
      "118/118 [==============================] - 0s 641us/step - loss: 1.5166 - acc: 0.3475 - val_loss: 1.5801 - val_acc: 0.3571\n",
      "Epoch 5/100\n",
      "118/118 [==============================] - 0s 687us/step - loss: 1.4929 - acc: 0.3136 - val_loss: 1.5780 - val_acc: 0.3571\n",
      "Epoch 6/100\n",
      "118/118 [==============================] - 0s 603us/step - loss: 1.4758 - acc: 0.3814 - val_loss: 1.5713 - val_acc: 0.2857\n",
      "Epoch 7/100\n",
      "118/118 [==============================] - 0s 585us/step - loss: 1.4579 - acc: 0.3644 - val_loss: 1.5508 - val_acc: 0.3571\n",
      "Epoch 8/100\n",
      "118/118 [==============================] - 0s 570us/step - loss: 1.4169 - acc: 0.3898 - val_loss: 1.5296 - val_acc: 0.2857\n",
      "Epoch 9/100\n",
      "118/118 [==============================] - 0s 632us/step - loss: 1.3794 - acc: 0.4237 - val_loss: 1.4970 - val_acc: 0.2143\n",
      "Epoch 10/100\n",
      "118/118 [==============================] - 0s 738us/step - loss: 1.3358 - acc: 0.4576 - val_loss: 1.4472 - val_acc: 0.2143\n",
      "Epoch 11/100\n",
      "118/118 [==============================] - 0s 714us/step - loss: 1.2756 - acc: 0.5678 - val_loss: 1.3893 - val_acc: 0.2857\n",
      "Epoch 12/100\n",
      "118/118 [==============================] - 0s 612us/step - loss: 1.2309 - acc: 0.6102 - val_loss: 1.3182 - val_acc: 0.5714\n",
      "Epoch 13/100\n",
      "118/118 [==============================] - 0s 620us/step - loss: 1.1618 - acc: 0.5847 - val_loss: 1.2570 - val_acc: 0.5714\n",
      "Epoch 14/100\n",
      "118/118 [==============================] - 0s 642us/step - loss: 1.0958 - acc: 0.6102 - val_loss: 1.2277 - val_acc: 0.5000\n",
      "Epoch 15/100\n",
      "118/118 [==============================] - 0s 644us/step - loss: 1.0437 - acc: 0.6271 - val_loss: 1.2090 - val_acc: 0.5000\n",
      "Epoch 16/100\n",
      "118/118 [==============================] - 0s 755us/step - loss: 0.9654 - acc: 0.6610 - val_loss: 1.1765 - val_acc: 0.5000\n",
      "Epoch 17/100\n",
      "118/118 [==============================] - 0s 690us/step - loss: 0.8908 - acc: 0.6864 - val_loss: 1.1618 - val_acc: 0.5000\n",
      "Epoch 18/100\n",
      "118/118 [==============================] - 0s 673us/step - loss: 0.8859 - acc: 0.6949 - val_loss: 1.1643 - val_acc: 0.5000\n",
      "Epoch 19/100\n",
      "118/118 [==============================] - 0s 632us/step - loss: 0.8332 - acc: 0.7034 - val_loss: 1.0753 - val_acc: 0.5714\n",
      "Epoch 20/100\n",
      "118/118 [==============================] - 0s 695us/step - loss: 0.7907 - acc: 0.7203 - val_loss: 1.0281 - val_acc: 0.6429\n",
      "Epoch 21/100\n",
      "118/118 [==============================] - 0s 691us/step - loss: 0.6464 - acc: 0.7966 - val_loss: 1.0178 - val_acc: 0.6429\n",
      "Epoch 22/100\n",
      "118/118 [==============================] - 0s 569us/step - loss: 0.5991 - acc: 0.7881 - val_loss: 1.1235 - val_acc: 0.6429\n",
      "Epoch 23/100\n",
      "118/118 [==============================] - 0s 600us/step - loss: 0.6030 - acc: 0.7966 - val_loss: 0.9707 - val_acc: 0.7143\n",
      "Epoch 24/100\n",
      "118/118 [==============================] - 0s 625us/step - loss: 0.5265 - acc: 0.8559 - val_loss: 0.9668 - val_acc: 0.6429\n",
      "Epoch 25/100\n",
      "118/118 [==============================] - 0s 721us/step - loss: 0.4804 - acc: 0.8475 - val_loss: 1.0249 - val_acc: 0.6429\n",
      "Epoch 26/100\n",
      "118/118 [==============================] - 0s 709us/step - loss: 0.4361 - acc: 0.8559 - val_loss: 1.0088 - val_acc: 0.6429\n",
      "Epoch 27/100\n",
      "118/118 [==============================] - 0s 703us/step - loss: 0.3847 - acc: 0.8729 - val_loss: 1.0625 - val_acc: 0.7143\n",
      "Epoch 28/100\n",
      "118/118 [==============================] - 0s 702us/step - loss: 0.3848 - acc: 0.8644 - val_loss: 0.9160 - val_acc: 0.7143\n",
      "Epoch 29/100\n",
      "118/118 [==============================] - 0s 846us/step - loss: 0.3431 - acc: 0.8814 - val_loss: 1.0078 - val_acc: 0.6429\n",
      "Epoch 30/100\n",
      "118/118 [==============================] - 0s 806us/step - loss: 0.3156 - acc: 0.8983 - val_loss: 1.1645 - val_acc: 0.6429\n",
      "Epoch 31/100\n",
      "118/118 [==============================] - 0s 795us/step - loss: 0.2972 - acc: 0.8983 - val_loss: 0.8418 - val_acc: 0.7857\n",
      "Epoch 32/100\n",
      "118/118 [==============================] - 0s 706us/step - loss: 0.2899 - acc: 0.9068 - val_loss: 0.7658 - val_acc: 0.6429\n",
      "Epoch 33/100\n",
      "118/118 [==============================] - 0s 721us/step - loss: 0.2720 - acc: 0.9153 - val_loss: 1.1209 - val_acc: 0.6429\n",
      "Epoch 34/100\n",
      "118/118 [==============================] - 0s 677us/step - loss: 0.2268 - acc: 0.9407 - val_loss: 0.9654 - val_acc: 0.5714\n",
      "Epoch 35/100\n",
      "118/118 [==============================] - 0s 618us/step - loss: 0.2005 - acc: 0.9492 - val_loss: 0.9184 - val_acc: 0.6429\n",
      "Epoch 36/100\n",
      "118/118 [==============================] - 0s 641us/step - loss: 0.1858 - acc: 0.9492 - val_loss: 1.1501 - val_acc: 0.5000\n",
      "Epoch 37/100\n",
      "118/118 [==============================] - 0s 704us/step - loss: 0.2652 - acc: 0.8898 - val_loss: 1.1823 - val_acc: 0.5714\n",
      "Epoch 38/100\n",
      "118/118 [==============================] - 0s 647us/step - loss: 0.1305 - acc: 0.9661 - val_loss: 1.2591 - val_acc: 0.5714\n",
      "Epoch 39/100\n",
      "118/118 [==============================] - 0s 735us/step - loss: 0.1768 - acc: 0.9322 - val_loss: 1.2761 - val_acc: 0.5714\n",
      "Epoch 40/100\n",
      "118/118 [==============================] - 0s 879us/step - loss: 0.1394 - acc: 0.9576 - val_loss: 1.0690 - val_acc: 0.7143\n",
      "Epoch 41/100\n",
      "118/118 [==============================] - 0s 799us/step - loss: 0.1483 - acc: 0.9492 - val_loss: 1.1128 - val_acc: 0.5714\n",
      "Epoch 42/100\n",
      "118/118 [==============================] - 0s 741us/step - loss: 0.0979 - acc: 0.9831 - val_loss: 1.4672 - val_acc: 0.5714\n",
      "Epoch 43/100\n",
      "118/118 [==============================] - 0s 738us/step - loss: 0.1336 - acc: 0.9407 - val_loss: 1.6741 - val_acc: 0.5000\n",
      "Epoch 44/100\n",
      "118/118 [==============================] - 0s 767us/step - loss: 0.1120 - acc: 0.9661 - val_loss: 1.1908 - val_acc: 0.6429\n",
      "Epoch 45/100\n",
      "118/118 [==============================] - 0s 680us/step - loss: 0.1258 - acc: 0.9661 - val_loss: 0.9788 - val_acc: 0.6429\n",
      "Epoch 46/100\n",
      "118/118 [==============================] - 0s 639us/step - loss: 0.1309 - acc: 0.9492 - val_loss: 1.1380 - val_acc: 0.5714\n",
      "Epoch 47/100\n",
      "118/118 [==============================] - 0s 598us/step - loss: 0.0728 - acc: 0.9915 - val_loss: 1.6320 - val_acc: 0.5000\n",
      "Epoch 48/100\n",
      "118/118 [==============================] - 0s 623us/step - loss: 0.1561 - acc: 0.9492 - val_loss: 1.4159 - val_acc: 0.5714\n",
      "Epoch 49/100\n",
      "118/118 [==============================] - 0s 633us/step - loss: 0.0930 - acc: 0.9661 - val_loss: 0.8480 - val_acc: 0.6429\n",
      "Epoch 50/100\n",
      "118/118 [==============================] - 0s 688us/step - loss: 0.1123 - acc: 0.9746 - val_loss: 0.7219 - val_acc: 0.6429\n",
      "Epoch 51/100\n",
      "118/118 [==============================] - 0s 728us/step - loss: 0.1290 - acc: 0.9661 - val_loss: 1.0545 - val_acc: 0.7143\n",
      "Epoch 52/100\n",
      "118/118 [==============================] - 0s 664us/step - loss: 0.0731 - acc: 0.9746 - val_loss: 1.5687 - val_acc: 0.5714\n",
      "Epoch 53/100\n",
      "118/118 [==============================] - 0s 604us/step - loss: 0.0908 - acc: 0.9746 - val_loss: 1.2303 - val_acc: 0.5714\n",
      "Epoch 54/100\n",
      "118/118 [==============================] - 0s 617us/step - loss: 0.0701 - acc: 0.9746 - val_loss: 1.1109 - val_acc: 0.5714\n",
      "Epoch 55/100\n",
      "118/118 [==============================] - 0s 622us/step - loss: 0.0529 - acc: 0.9831 - val_loss: 1.1256 - val_acc: 0.6429\n",
      "Epoch 56/100\n",
      "118/118 [==============================] - 0s 602us/step - loss: 0.0427 - acc: 1.0000 - val_loss: 1.2615 - val_acc: 0.5714\n",
      "Epoch 57/100\n",
      "118/118 [==============================] - 0s 652us/step - loss: 0.0941 - acc: 0.9576 - val_loss: 0.9731 - val_acc: 0.6429\n",
      "Epoch 58/100\n",
      "118/118 [==============================] - 0s 649us/step - loss: 0.0508 - acc: 0.9831 - val_loss: 1.0984 - val_acc: 0.6429\n",
      "Epoch 59/100\n",
      "118/118 [==============================] - 0s 620us/step - loss: 0.1681 - acc: 0.9661 - val_loss: 1.0167 - val_acc: 0.5714\n",
      "Epoch 60/100\n",
      "118/118 [==============================] - 0s 656us/step - loss: 0.0285 - acc: 1.0000 - val_loss: 1.4699 - val_acc: 0.5000\n"
     ]
    },
    {
     "name": "stdout",
     "output_type": "stream",
     "text": [
      "Epoch 61/100\n",
      "118/118 [==============================] - 0s 607us/step - loss: 0.1263 - acc: 0.9492 - val_loss: 1.7759 - val_acc: 0.4286\n",
      "Epoch 62/100\n",
      "118/118 [==============================] - 0s 572us/step - loss: 0.0653 - acc: 0.9746 - val_loss: 1.4984 - val_acc: 0.5714\n",
      "Epoch 63/100\n",
      "118/118 [==============================] - 0s 621us/step - loss: 0.0738 - acc: 0.9831 - val_loss: 1.3697 - val_acc: 0.6429\n",
      "Epoch 64/100\n",
      "118/118 [==============================] - 0s 593us/step - loss: 0.0914 - acc: 0.9576 - val_loss: 1.0205 - val_acc: 0.5714\n",
      "Epoch 65/100\n",
      "118/118 [==============================] - 0s 572us/step - loss: 0.0847 - acc: 0.9746 - val_loss: 1.0089 - val_acc: 0.6429\n",
      "Epoch 66/100\n",
      "118/118 [==============================] - 0s 595us/step - loss: 0.0562 - acc: 0.9831 - val_loss: 1.1395 - val_acc: 0.7143\n",
      "Epoch 67/100\n",
      "118/118 [==============================] - 0s 594us/step - loss: 0.0567 - acc: 0.9915 - val_loss: 1.6833 - val_acc: 0.5714\n",
      "Epoch 68/100\n",
      "118/118 [==============================] - 0s 622us/step - loss: 0.0480 - acc: 0.9915 - val_loss: 1.5318 - val_acc: 0.5000\n",
      "Epoch 69/100\n",
      "118/118 [==============================] - 0s 601us/step - loss: 0.0212 - acc: 1.0000 - val_loss: 1.2177 - val_acc: 0.5714\n",
      "Epoch 70/100\n",
      "118/118 [==============================] - 0s 617us/step - loss: 0.0223 - acc: 0.9915 - val_loss: 1.0039 - val_acc: 0.5714\n",
      "Epoch 71/100\n",
      "118/118 [==============================] - 0s 586us/step - loss: 0.0312 - acc: 0.9915 - val_loss: 0.8995 - val_acc: 0.6429\n",
      "Epoch 72/100\n",
      "118/118 [==============================] - 0s 601us/step - loss: 0.0255 - acc: 1.0000 - val_loss: 0.8873 - val_acc: 0.5714\n",
      "Epoch 73/100\n",
      "118/118 [==============================] - 0s 636us/step - loss: 0.0184 - acc: 1.0000 - val_loss: 0.9418 - val_acc: 0.6429\n",
      "Epoch 74/100\n",
      "118/118 [==============================] - 0s 747us/step - loss: 0.0257 - acc: 0.9915 - val_loss: 1.1603 - val_acc: 0.6429\n",
      "Epoch 75/100\n",
      "118/118 [==============================] - 0s 782us/step - loss: 0.0151 - acc: 1.0000 - val_loss: 1.4658 - val_acc: 0.6429\n",
      "Epoch 76/100\n",
      "118/118 [==============================] - 0s 698us/step - loss: 0.0305 - acc: 0.9915 - val_loss: 1.7080 - val_acc: 0.5714\n",
      "Epoch 77/100\n",
      "118/118 [==============================] - 0s 592us/step - loss: 0.0311 - acc: 0.9831 - val_loss: 1.5173 - val_acc: 0.6429\n",
      "Epoch 78/100\n",
      "118/118 [==============================] - 0s 662us/step - loss: 0.0130 - acc: 1.0000 - val_loss: 1.2015 - val_acc: 0.7143\n",
      "Epoch 79/100\n",
      "118/118 [==============================] - 0s 717us/step - loss: 0.0137 - acc: 1.0000 - val_loss: 1.0528 - val_acc: 0.7143\n",
      "Epoch 80/100\n",
      "118/118 [==============================] - 0s 696us/step - loss: 0.0204 - acc: 1.0000 - val_loss: 1.0469 - val_acc: 0.7143\n",
      "Epoch 81/100\n",
      "118/118 [==============================] - 0s 636us/step - loss: 0.0106 - acc: 1.0000 - val_loss: 1.1329 - val_acc: 0.7143\n",
      "Epoch 82/100\n",
      "118/118 [==============================] - 0s 578us/step - loss: 0.0077 - acc: 1.0000 - val_loss: 1.2720 - val_acc: 0.5714\n",
      "Epoch 83/100\n",
      "118/118 [==============================] - 0s 595us/step - loss: 0.0102 - acc: 1.0000 - val_loss: 1.3872 - val_acc: 0.5714\n",
      "Epoch 84/100\n",
      "118/118 [==============================] - 0s 644us/step - loss: 0.0142 - acc: 1.0000 - val_loss: 1.3943 - val_acc: 0.5714\n",
      "Epoch 85/100\n",
      "118/118 [==============================] - 0s 736us/step - loss: 0.0127 - acc: 1.0000 - val_loss: 1.3961 - val_acc: 0.5714\n",
      "Epoch 86/100\n",
      "118/118 [==============================] - 0s 739us/step - loss: 0.0157 - acc: 1.0000 - val_loss: 1.3818 - val_acc: 0.5714\n",
      "Epoch 87/100\n",
      "118/118 [==============================] - 0s 670us/step - loss: 0.0107 - acc: 1.0000 - val_loss: 1.3356 - val_acc: 0.6429\n",
      "Epoch 88/100\n",
      "118/118 [==============================] - 0s 686us/step - loss: 0.0074 - acc: 1.0000 - val_loss: 1.3140 - val_acc: 0.6429\n",
      "Epoch 89/100\n",
      "118/118 [==============================] - 0s 706us/step - loss: 0.0089 - acc: 1.0000 - val_loss: 1.3090 - val_acc: 0.6429\n",
      "Epoch 90/100\n",
      "118/118 [==============================] - 0s 705us/step - loss: 0.0125 - acc: 1.0000 - val_loss: 1.3125 - val_acc: 0.6429\n",
      "Epoch 91/100\n",
      "118/118 [==============================] - 0s 587us/step - loss: 0.0068 - acc: 1.0000 - val_loss: 1.3066 - val_acc: 0.7143\n",
      "Epoch 92/100\n",
      "118/118 [==============================] - 0s 684us/step - loss: 0.0075 - acc: 1.0000 - val_loss: 1.3075 - val_acc: 0.7143\n",
      "Epoch 93/100\n",
      "118/118 [==============================] - 0s 672us/step - loss: 0.0066 - acc: 1.0000 - val_loss: 1.3313 - val_acc: 0.7143\n",
      "Epoch 94/100\n",
      "118/118 [==============================] - 0s 668us/step - loss: 0.0072 - acc: 1.0000 - val_loss: 1.3596 - val_acc: 0.7143\n",
      "Epoch 95/100\n",
      "118/118 [==============================] - 0s 564us/step - loss: 0.0069 - acc: 1.0000 - val_loss: 1.3897 - val_acc: 0.6429\n",
      "Epoch 96/100\n",
      "118/118 [==============================] - 0s 576us/step - loss: 0.0058 - acc: 1.0000 - val_loss: 1.4133 - val_acc: 0.6429\n",
      "Epoch 97/100\n",
      "118/118 [==============================] - 0s 650us/step - loss: 0.0056 - acc: 1.0000 - val_loss: 1.4357 - val_acc: 0.6429\n",
      "Epoch 98/100\n",
      "118/118 [==============================] - 0s 601us/step - loss: 0.0071 - acc: 1.0000 - val_loss: 1.4318 - val_acc: 0.6429\n",
      "Epoch 99/100\n",
      "118/118 [==============================] - 0s 602us/step - loss: 0.0056 - acc: 1.0000 - val_loss: 1.4162 - val_acc: 0.6429\n",
      "Epoch 100/100\n",
      "118/118 [==============================] - 0s 700us/step - loss: 0.0049 - acc: 1.0000 - val_loss: 1.4041 - val_acc: 0.6429\n"
     ]
    }
   ],
   "source": [
    "from keras.callbacks import ModelCheckpoint,EarlyStopping\n",
    "\n",
    "#checkpoint = ModelCheckpoint(\"bmodel.h5\",monitor='val_loss',verbose=True,save_best_only=True)\n",
    "#early_stop = EarlyStopping(monitor='val_acc',patience=10)\n",
    "hist = model.fit(train_embeddings,y_train,validation_split=0.1,shuffle=True,epochs=100,batch_size=64)"
   ]
  },
  {
   "cell_type": "code",
   "execution_count": 222,
   "metadata": {},
   "outputs": [
    {
     "data": {
      "text/plain": [
       "(132, 10, 50)"
      ]
     },
     "execution_count": 222,
     "metadata": {},
     "output_type": "execute_result"
    }
   ],
   "source": [
    "train_embeddings.shape"
   ]
  },
  {
   "cell_type": "code",
   "execution_count": 223,
   "metadata": {},
   "outputs": [],
   "source": [
    "pred = model.predict_classes(test_embeddings)"
   ]
  },
  {
   "cell_type": "code",
   "execution_count": 224,
   "metadata": {},
   "outputs": [
    {
     "name": "stdout",
     "output_type": "stream",
     "text": [
      "[4 3 3 2 2 2 3 0 4 2 1 2 0 3 1 3 2 2 3 2 3 0 4 3 3 3 2 0 1 2 0 1 3 2 0 1 2\n",
      " 3 4 2 1 0 0 1 2 2 2 2 3 3 3 0 3 2 3 0]\n"
     ]
    }
   ],
   "source": [
    "print(pred)"
   ]
  },
  {
   "cell_type": "code",
   "execution_count": 227,
   "metadata": {},
   "outputs": [
    {
     "name": "stdout",
     "output_type": "stream",
     "text": [
      "I want to eat\n",
      "🍴\n",
      "he did not answer\n",
      "😓\n",
      "he got a raise\n",
      "😓\n",
      "she got me a present\n",
      "😁\n",
      "ha ha ha it was so funny\n",
      "😁\n",
      "he is a good friend\n",
      "😁\n",
      "I am upset\n",
      "😓\n",
      "We had such a lovely dinner tonight\n",
      "❤️\n",
      "where is the food\n",
      "🍴\n",
      "Stop making this joke ha ha ha\n",
      "😁\n",
      "where is the ball\n",
      "⚾\n",
      "work is hard\n",
      "😁\n",
      "This girl is messing with me\n",
      "❤️\n",
      "are you serious ha ha\n",
      "😓\n",
      "Let us go play baseball\n",
      "⚾\n",
      "This stupid grader is not working\n",
      "😓\n",
      "work is horrible\n",
      "😁\n",
      "Congratulation for having a baby\n",
      "😁\n",
      "stop messing around\n",
      "😓\n",
      "any suggestions for dinner\n",
      "😁\n"
     ]
    }
   ],
   "source": [
    "for i in range(20):\n",
    "    print(' '.join(x_test[i]))\n",
    "    print(emoji.emojize(emoji_dict[str(pred[i])]))"
   ]
  },
  {
   "cell_type": "code",
   "execution_count": 226,
   "metadata": {
    "scrolled": false
   },
   "outputs": [
    {
     "name": "stdout",
     "output_type": "stream",
     "text": [
      "56/56 [==============================] - 0s 350us/step\n"
     ]
    },
    {
     "data": {
      "text/plain": [
       "[2.1635926280702864, 0.6249999914850507]"
      ]
     },
     "execution_count": 226,
     "metadata": {},
     "output_type": "execute_result"
    }
   ],
   "source": [
    "model.evaluate(test_embeddings,y_test)"
   ]
  }
 ],
 "metadata": {
  "kernelspec": {
   "display_name": "Python 3",
   "language": "python",
   "name": "python3"
  },
  "language_info": {
   "codemirror_mode": {
    "name": "ipython",
    "version": 3
   },
   "file_extension": ".py",
   "mimetype": "text/x-python",
   "name": "python",
   "nbconvert_exporter": "python",
   "pygments_lexer": "ipython3",
   "version": "3.6.5"
  }
 },
 "nbformat": 4,
 "nbformat_minor": 2
}
